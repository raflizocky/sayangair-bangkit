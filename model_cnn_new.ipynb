{
  "nbformat": 4,
  "nbformat_minor": 0,
  "metadata": {
    "colab": {
      "provenance": [],
      "gpuType": "T4"
    },
    "kernelspec": {
      "name": "python3",
      "display_name": "Python 3"
    },
    "language_info": {
      "name": "python"
    },
    "accelerator": "GPU"
  },
  "cells": [
    {
      "cell_type": "markdown",
      "source": [
        "# model CNN (digit prediction)"
      ],
      "metadata": {
        "id": "3V_eP-9be13L"
      }
    },
    {
      "cell_type": "code",
      "execution_count": null,
      "metadata": {
        "id": "R60MzvIqYed4"
      },
      "outputs": [],
      "source": [
        "import tensorflow as tf\n",
        "from keras.utils import to_categorical\n",
        "from keras.datasets import mnist\n",
        "from sklearn.model_selection import train_test_split"
      ]
    },
    {
      "cell_type": "code",
      "source": [
        "(x_train_main, y_train_main), (x_test, y_test) = mnist.load_data()"
      ],
      "metadata": {
        "id": "35sd60Q2Y56Z",
        "colab": {
          "base_uri": "https://localhost:8080/"
        },
        "outputId": "e861bc1c-2733-4657-dd4e-8dd438d0d693"
      },
      "execution_count": null,
      "outputs": [
        {
          "output_type": "stream",
          "name": "stdout",
          "text": [
            "Downloading data from https://storage.googleapis.com/tensorflow/tf-keras-datasets/mnist.npz\n",
            "11490434/11490434 [==============================] - 0s 0us/step\n"
          ]
        }
      ]
    },
    {
      "cell_type": "code",
      "source": [
        "x_train, x_val, y_train, y_val = train_test_split(x_train_main, y_train_main, test_size=0.2, random_state=42)"
      ],
      "metadata": {
        "id": "CxFvzGXTkp7-"
      },
      "execution_count": null,
      "outputs": []
    },
    {
      "cell_type": "markdown",
      "source": [
        "* train = (48000, 28, 28)\n",
        "* val = (12000, 28, 28)\n",
        "* test = (10000, 28, 28)"
      ],
      "metadata": {
        "id": "e_wFcHT3KwUb"
      }
    },
    {
      "cell_type": "code",
      "source": [
        "x_train = x_train.reshape(48000, 28, 28, 1)\n",
        "x_val = x_val.reshape(12000, 28, 28, 1)\n",
        "x_test = x_test.reshape(10000, 28, 28, 1)"
      ],
      "metadata": {
        "id": "1S3DM8aJZBAH"
      },
      "execution_count": null,
      "outputs": []
    },
    {
      "cell_type": "code",
      "source": [
        "y_train = to_categorical(y_train)\n",
        "y_val = to_categorical(y_val)\n",
        "y_test = to_categorical(y_test)"
      ],
      "metadata": {
        "id": "GLpo-Q4IZImd"
      },
      "execution_count": null,
      "outputs": []
    },
    {
      "cell_type": "code",
      "source": [
        "model = tf.keras.Sequential([\n",
        "    tf.keras.layers.Conv2D(16, kernel_size=3, activation='relu', input_shape=(28, 28, 1)),\n",
        "    tf.keras.layers.Conv2D(32, kernel_size=3, activation='relu'),\n",
        "    tf.keras.layers.Flatten(),\n",
        "    tf.keras.layers.Dropout(0.4),\n",
        "    tf.keras.layers.Dense(64, activation='relu'),\n",
        "    tf.keras.layers.Dense(10, activation='softmax')])"
      ],
      "metadata": {
        "id": "GyD03fA8ZLI6"
      },
      "execution_count": null,
      "outputs": []
    },
    {
      "cell_type": "code",
      "source": [
        "class MyCallback(tf.keras.callbacks.Callback):\n",
        "        def on_epoch_end(self, epoch, logs={}):\n",
        "            if (logs.get('val_loss') < 0.12):\n",
        "                print(\"\\nVal loss lower than 0.12\")\n",
        "                self.model.stop_training = True\n",
        "\n",
        "callback = MyCallback()"
      ],
      "metadata": {
        "id": "OuyXlP4TxeJt"
      },
      "execution_count": null,
      "outputs": []
    },
    {
      "cell_type": "code",
      "source": [
        "model.compile(optimizer=tf.keras.optimizers.Adam(learning_rate=0.0001),\n",
        "              loss='categorical_crossentropy',\n",
        "              metrics=['acc'])"
      ],
      "metadata": {
        "id": "4Ot8HzGqZMPA"
      },
      "execution_count": null,
      "outputs": []
    },
    {
      "cell_type": "code",
      "source": [
        "model.fit(x_train,\n",
        "          y_train,\n",
        "          validation_data=(x_val, y_val),\n",
        "          epochs=100,\n",
        "          callbacks=callback)"
      ],
      "metadata": {
        "colab": {
          "base_uri": "https://localhost:8080/"
        },
        "id": "PHL-BcIuZOwy",
        "outputId": "d161d6fd-e52e-4cf4-b8fe-4b1c8de10209"
      },
      "execution_count": null,
      "outputs": [
        {
          "output_type": "stream",
          "name": "stdout",
          "text": [
            "Epoch 1/100\n",
            "1500/1500 [==============================] - 98s 64ms/step - loss: 0.5836 - acc: 0.8556 - val_loss: 0.1376 - val_acc: 0.9597\n",
            "Epoch 2/100\n",
            "1500/1500 [==============================] - ETA: 0s - loss: 0.1249 - acc: 0.9631\n",
            "Val loss lower than 0.12\n",
            "1500/1500 [==============================] - 84s 56ms/step - loss: 0.1249 - acc: 0.9631 - val_loss: 0.0873 - val_acc: 0.9738\n"
          ]
        },
        {
          "output_type": "execute_result",
          "data": {
            "text/plain": [
              "<keras.src.callbacks.History at 0x78d8431c0ca0>"
            ]
          },
          "metadata": {},
          "execution_count": 9
        }
      ]
    },
    {
      "cell_type": "code",
      "source": [
        "model.evaluate(x_test, y_test)"
      ],
      "metadata": {
        "colab": {
          "base_uri": "https://localhost:8080/"
        },
        "id": "z9h3CJl7ZU3X",
        "outputId": "f45d9a7d-3504-4f31-a9bc-6d772506336d"
      },
      "execution_count": null,
      "outputs": [
        {
          "output_type": "stream",
          "name": "stdout",
          "text": [
            "313/313 [==============================] - 4s 11ms/step - loss: 0.0882 - acc: 0.9744\n"
          ]
        },
        {
          "output_type": "execute_result",
          "data": {
            "text/plain": [
              "[0.08816168457269669, 0.974399983882904]"
            ]
          },
          "metadata": {},
          "execution_count": 10
        }
      ]
    },
    {
      "cell_type": "markdown",
      "source": [
        "# save model"
      ],
      "metadata": {
        "id": "IpYiQpAChTFA"
      }
    },
    {
      "cell_type": "code",
      "source": [
        "#!pip install pyyaml h5py\n",
        "#model.save('/content/drive/MyDrive/model2.h5')"
      ],
      "metadata": {
        "id": "-oXBO38gd1G4"
      },
      "execution_count": null,
      "outputs": []
    }
  ]
}